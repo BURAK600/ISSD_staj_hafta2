{
 "cells": [
  {
   "cell_type": "markdown",
   "id": "1de494d1",
   "metadata": {},
   "source": [
    "# Support Vector Classifier"
   ]
  },
  {
   "cell_type": "code",
   "execution_count": 2,
   "id": "5df02252",
   "metadata": {},
   "outputs": [],
   "source": [
    "import numpy as np\n",
    "import pandas as pd\n",
    "import matplotlib.pyplot as plt\n",
    "\n",
    "data = pd.read_csv(r\"train.csv\")\n",
    "\n",
    "from sklearn import preprocessing\n",
    "le = preprocessing.LabelEncoder()\n",
    "data[\"satisfaction\"] = le.fit_transform(data[\"satisfaction\"])\n",
    "data[\"Customer Type\"] = le.fit_transform(data[\"Customer Type\"])\n",
    "\n",
    "\n",
    "\n",
    "data[\"Class\"] = data[\"Class\"].map({ \"Eco\":1,\"Eco Plus\":2,\"Business\":3})\n",
    "\n",
    "\n",
    "\"\"\"data[\"JobType\"] = data[\"JobType\"].map({\" ?\":np.nan, \" Never-worked\":0,\n",
    "                                       \" Without-pay\":1,\" Self-emp-not-inc\":2,\n",
    "                                       \" Self-emp-inc\":3,\" Private\":4,\n",
    "                                         \"Local-gov\":5,\" State-gov\":6,\" Federal-gov\":7,\" Without-pay\":8})\"\"\"\n",
    "\n",
    "\n",
    "\n",
    "\n",
    "Y = data.iloc[:,-1]\n",
    "X = data[[\"Class\", \"Online boarding\",\"Inflight entertainment\"]]\n",
    "\n",
    "from sklearn.impute import SimpleImputer\n",
    "imputer  = SimpleImputer(missing_values = np.nan, strategy = \"mean\")\n",
    "missing_data = X.values\n",
    "missing_data = missing_data.reshape(len(missing_data),X.shape[1])\n",
    "imputer = imputer.fit(missing_data)\n",
    "X = imputer.transform(missing_data)\n",
    "X1 = pd.DataFrame(X, columns = [\"Class\", \"Online boarding\",\"Inflight entertainment\"])\n",
    "\n",
    "\n",
    "from sklearn.model_selection import train_test_split\n",
    "\n",
    "\n",
    "x_train, x_test,y_train,y_test = train_test_split(X1,Y,test_size=0.33, random_state=0)\n",
    "\n",
    "x_train = x_train.sort_index().values\n",
    "y_train = y_train.sort_index().values\n",
    "x_test = x_test.sort_index().values\n",
    "y_test = y_test.sort_index().values\n",
    "\n",
    "from sklearn.preprocessing import StandardScaler\n",
    "\n",
    "sc = StandardScaler()\n",
    "\n",
    "x_train = sc.fit_transform(x_train)\n",
    "\n",
    "x_test = sc.transform(x_test)\n"
   ]
  },
  {
   "cell_type": "code",
   "execution_count": 3,
   "id": "02e637af",
   "metadata": {},
   "outputs": [
    {
     "name": "stdout",
     "output_type": "stream",
     "text": [
      "SVM çalışma süresi 227.42781734466553\n"
     ]
    }
   ],
   "source": [
    "import time\n",
    "start = time.time()\n",
    "from sklearn.svm import SVC\n",
    "svc = SVC(C = 0.1,gamma = 10 )\n",
    "\n",
    "svc.fit(x_train,y_train)\n",
    "\n",
    "y_pred = svc.predict(x_test)\n",
    "\n",
    "y_pred\n",
    "\n",
    "end = time.time()\n",
    "\n",
    "print(\"SVM çalışma süresi\", end - start)\n"
   ]
  },
  {
   "cell_type": "code",
   "execution_count": 4,
   "id": "f4baee60",
   "metadata": {},
   "outputs": [
    {
     "data": {
      "text/plain": [
       "array([[16999,  2422],\n",
       "       [ 3015, 11853]], dtype=int64)"
      ]
     },
     "execution_count": 4,
     "metadata": {},
     "output_type": "execute_result"
    }
   ],
   "source": [
    "from sklearn.metrics import confusion_matrix\n",
    "\n",
    "cm = confusion_matrix(y_test,y_pred)\n",
    "\n",
    "cm"
   ]
  },
  {
   "cell_type": "code",
   "execution_count": 5,
   "id": "0ce822ce",
   "metadata": {},
   "outputs": [
    {
     "name": "stdout",
     "output_type": "stream",
     "text": [
      "Precision Score: 0.8398441003731714\n",
      "Recall Score: 0.8362525656496493\n",
      "Accuracy Score: 0.8414360290472163\n",
      "F1 Score: 0.837782370350344\n"
     ]
    }
   ],
   "source": [
    "from sklearn.metrics import precision_score, recall_score, accuracy_score, f1_score\n",
    "def print_metrics(labels, preds):\n",
    "    print(\"Precision Score: {}\".format(precision_score(labels, preds, average = 'macro')))\n",
    "    print(\"Recall Score: {}\".format(recall_score(labels, preds, average = 'macro')))\n",
    "    print(\"Accuracy Score: {}\".format(accuracy_score(labels, preds)))\n",
    "    print(\"F1 Score: {}\".format(f1_score(labels, preds, average = 'macro')))\n",
    "    \n",
    "print_metrics(y_test, y_pred) "
   ]
  },
  {
   "cell_type": "markdown",
   "id": "d4827d72",
   "metadata": {},
   "source": [
    "Destek vektör makinelerinde kullanılan 'C' ve '𝞼' hiperparametreleri"
   ]
  },
  {
   "cell_type": "code",
   "execution_count": 7,
   "id": "30800d75",
   "metadata": {},
   "outputs": [
    {
     "name": "stdout",
     "output_type": "stream",
     "text": [
      "Grid-Search with accuracy\n",
      "Best parameters: {'C': 1.0, 'gamma': 1}\n",
      "Best cross-validation score (accuracy)): 0.84358256122962\n",
      "GridSearch SVC hesaplama zamanı 54777.46046257019\n"
     ]
    }
   ],
   "source": [
    "import time\n",
    "\n",
    "start = time.time()\n",
    "from sklearn.model_selection import GridSearchCV, cross_val_score\n",
    "\n",
    "param_grid = {'gamma': [0.0001, 0.01, 0.1, 1, 10], \"C\" : [0.01, 1.0,100.0 ]}\n",
    "\n",
    "\n",
    "grid = GridSearchCV(SVC(), param_grid=param_grid)\n",
    "grid.fit(x_train, y_train)\n",
    "print(\"Grid-Search with accuracy\")\n",
    "print(\"Best parameters:\", grid.best_params_)\n",
    "print(\"Best cross-validation score (accuracy)):\", grid.best_score_)\n",
    "\n",
    "end= time.time()\n",
    "print(\"GridSearch SVC hesaplama zamanı\", end-start)\n"
   ]
  },
  {
   "cell_type": "code",
   "execution_count": 5,
   "id": "6c5dc98b",
   "metadata": {},
   "outputs": [
    {
     "name": "stderr",
     "output_type": "stream",
     "text": [
      "\u001b[32m[I 2021-09-19 22:07:49,025]\u001b[0m A new study created in memory with name: no-name-c203b6f3-c099-48ff-9212-53031c0c0b58\u001b[0m\n",
      "\u001b[32m[I 2021-09-19 22:12:59,480]\u001b[0m Trial 0 finished with value: 0.8413777013036251 and parameters: {'c': 100.0, 'gamma': 1.0}. Best is trial 0 with value: 0.8413777013036251.\u001b[0m\n",
      "\u001b[32m[I 2021-09-19 22:26:09,143]\u001b[0m Trial 1 finished with value: 0.8417568316369681 and parameters: {'c': 100.0, 'gamma': 0.1}. Best is trial 1 with value: 0.8417568316369681.\u001b[0m\n",
      "\u001b[32m[I 2021-09-19 22:29:42,666]\u001b[0m Trial 2 finished with value: 0.8413777013036251 and parameters: {'c': 100.0, 'gamma': 10.0}. Best is trial 1 with value: 0.8417568316369681.\u001b[0m\n",
      "\u001b[32m[I 2021-09-19 22:46:17,356]\u001b[0m Trial 3 finished with value: 0.8417568316369681 and parameters: {'c': 100.0, 'gamma': 0.1}. Best is trial 1 with value: 0.8417568316369681.\u001b[0m\n",
      "\u001b[32m[I 2021-09-19 22:51:29,688]\u001b[0m Trial 4 finished with value: 0.8413777013036251 and parameters: {'c': 1.0, 'gamma': 1.0}. Best is trial 1 with value: 0.8417568316369681.\u001b[0m\n",
      "\u001b[32m[I 2021-09-19 22:56:32,979]\u001b[0m Trial 5 finished with value: 0.8396278689958879 and parameters: {'c': 0.01, 'gamma': 10.0}. Best is trial 1 with value: 0.8417568316369681.\u001b[0m\n",
      "\u001b[32m[I 2021-09-19 23:03:39,807]\u001b[0m Trial 6 finished with value: 0.836478170841961 and parameters: {'c': 0.01, 'gamma': 0.1}. Best is trial 1 with value: 0.8417568316369681.\u001b[0m\n",
      "\u001b[32m[I 2021-09-19 23:09:22,772]\u001b[0m Trial 7 finished with value: 0.8398611799702529 and parameters: {'c': 1.0, 'gamma': 0.1}. Best is trial 1 with value: 0.8417568316369681.\u001b[0m\n",
      "\u001b[32m[I 2021-09-19 23:14:57,754]\u001b[0m Trial 8 finished with value: 0.836478170841961 and parameters: {'c': 0.01, 'gamma': 0.1}. Best is trial 1 with value: 0.8417568316369681.\u001b[0m\n",
      "\u001b[32m[I 2021-09-19 23:19:12,037]\u001b[0m Trial 9 finished with value: 0.8413777013036251 and parameters: {'c': 100.0, 'gamma': 10.0}. Best is trial 1 with value: 0.8417568316369681.\u001b[0m\n",
      "\u001b[32m[I 2021-09-19 23:34:22,368]\u001b[0m Trial 10 finished with value: 0.8417568316369681 and parameters: {'c': 100.0, 'gamma': 0.1}. Best is trial 1 with value: 0.8417568316369681.\u001b[0m\n",
      "\u001b[32m[I 2021-09-19 23:49:05,901]\u001b[0m Trial 11 finished with value: 0.8417568316369681 and parameters: {'c': 100.0, 'gamma': 0.1}. Best is trial 1 with value: 0.8417568316369681.\u001b[0m\n",
      "\u001b[32m[I 2021-09-20 00:05:29,856]\u001b[0m Trial 12 finished with value: 0.8417568316369681 and parameters: {'c': 100.0, 'gamma': 0.1}. Best is trial 1 with value: 0.8417568316369681.\u001b[0m\n",
      "\u001b[32m[I 2021-09-20 00:28:47,473]\u001b[0m Trial 13 finished with value: 0.8417568316369681 and parameters: {'c': 100.0, 'gamma': 0.1}. Best is trial 1 with value: 0.8417568316369681.\u001b[0m\n",
      "\u001b[32m[I 2021-09-20 00:49:41,752]\u001b[0m Trial 14 finished with value: 0.8417568316369681 and parameters: {'c': 100.0, 'gamma': 0.1}. Best is trial 1 with value: 0.8417568316369681.\u001b[0m\n",
      "\u001b[32m[I 2021-09-20 00:52:59,559]\u001b[0m Trial 15 finished with value: 0.8413777013036251 and parameters: {'c': 1.0, 'gamma': 1.0}. Best is trial 1 with value: 0.8417568316369681.\u001b[0m\n",
      "\u001b[32m[I 2021-09-20 01:05:00,765]\u001b[0m Trial 16 finished with value: 0.8417568316369681 and parameters: {'c': 100.0, 'gamma': 0.1}. Best is trial 1 with value: 0.8417568316369681.\u001b[0m\n",
      "\u001b[32m[I 2021-09-20 01:21:49,823]\u001b[0m Trial 17 finished with value: 0.8417568316369681 and parameters: {'c': 100.0, 'gamma': 0.1}. Best is trial 1 with value: 0.8417568316369681.\u001b[0m\n",
      "\u001b[32m[I 2021-09-20 01:27:35,839]\u001b[0m Trial 18 finished with value: 0.8396278689958879 and parameters: {'c': 0.01, 'gamma': 10.0}. Best is trial 1 with value: 0.8417568316369681.\u001b[0m\n",
      "\u001b[32m[I 2021-09-20 01:31:49,694]\u001b[0m Trial 19 finished with value: 0.8413777013036251 and parameters: {'c': 1.0, 'gamma': 1.0}. Best is trial 1 with value: 0.8417568316369681.\u001b[0m\n"
     ]
    },
    {
     "name": "stdout",
     "output_type": "stream",
     "text": [
      "Best score: 0.8417568316369681\n",
      "\n",
      "Optimized parameters: {'c': 100.0, 'gamma': 0.1}\n",
      "\n",
      "{'c': 100.0, 'gamma': 0.1}\n",
      "Optuna çalışma süresi 12240.700247526169 sn\n"
     ]
    }
   ],
   "source": [
    "import optuna\n",
    "from sklearn.model_selection import GridSearchCV, cross_val_score\n",
    "from optuna import Trial, visualization\n",
    "\n",
    "start = time.time()\n",
    "\n",
    "\n",
    "\n",
    "def tune(objective):\n",
    "    study = optuna.create_study(direction=\"maximize\")\n",
    "    study.optimize(objective, n_trials=20)\n",
    "\n",
    "    params = study.best_params\n",
    "    best_score = study.best_value\n",
    "    print(f\"Best score: {best_score}\\n\")\n",
    "    print(f\"Optimized parameters: {params}\\n\")\n",
    "    return params\n",
    "\n",
    "\n",
    "def svc_objective(trial):  \n",
    "    \n",
    "    # gamma = [1e-1, 1e-2, 1e-3, 1e-4, 1e-5, 1e-6, 1e-7]\n",
    "    # C = [1, 10, 100, 1e3, 1e4, 1e5]\n",
    "    \n",
    "    c_ = trial.suggest_categorical(\"c\", [0.01, 1.0,100.0 ])\n",
    "    gamma_ = trial.suggest_categorical(\"gamma\", [0.1, 1.0,10.0 ])\n",
    "    svc = SVC(C = c_, gamma = gamma_)\n",
    "    svc.fit(x_train,y_train)\n",
    "    return svc.score(x_test, y_test)\n",
    "    \n",
    "    \n",
    "\n",
    "\n",
    "svc_params = tune(svc_objective)\n",
    "\n",
    "print(svc_params)\n",
    "\n",
    "end = time.time()\n",
    "\n",
    "\n",
    "print(\"Optuna çalışma süresi \" + str(end-start) + \" sn\")"
   ]
  },
  {
   "cell_type": "code",
   "execution_count": null,
   "id": "d8de7f6b",
   "metadata": {},
   "outputs": [],
   "source": []
  },
  {
   "cell_type": "code",
   "execution_count": null,
   "id": "a10998a8",
   "metadata": {},
   "outputs": [],
   "source": []
  },
  {
   "cell_type": "code",
   "execution_count": null,
   "id": "bf1cecb5",
   "metadata": {},
   "outputs": [],
   "source": []
  }
 ],
 "metadata": {
  "kernelspec": {
   "display_name": "Python 3",
   "language": "python",
   "name": "python3"
  },
  "language_info": {
   "codemirror_mode": {
    "name": "ipython",
    "version": 3
   },
   "file_extension": ".py",
   "mimetype": "text/x-python",
   "name": "python",
   "nbconvert_exporter": "python",
   "pygments_lexer": "ipython3",
   "version": "3.8.8"
  }
 },
 "nbformat": 4,
 "nbformat_minor": 5
}
