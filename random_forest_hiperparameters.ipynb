{
 "cells": [
  {
   "cell_type": "markdown",
   "id": "8088fb75",
   "metadata": {},
   "source": [
    "# Random Forest with scikit-learn library_GridSearch_Optuna"
   ]
  },
  {
   "cell_type": "code",
   "execution_count": 8,
   "id": "3abc5d9c",
   "metadata": {},
   "outputs": [],
   "source": [
    "import pandas as pd\n",
    "import numpy as np\n",
    "from pprint import pprint\n",
    "\n",
    "\n",
    "\n",
    "data = pd.read_csv(r\"train.csv\")\n",
    "\n",
    "from sklearn import preprocessing\n",
    "le = preprocessing.LabelEncoder()\n",
    "data[\"satisfaction\"] = le.fit_transform(data[\"satisfaction\"])\n",
    "data[\"Customer Type\"] = le.fit_transform(data[\"Customer Type\"])\n",
    "\n",
    "\n",
    "\n",
    "data[\"Class\"] = data[\"Class\"].map({ \"Eco\":1,\"Eco Plus\":2,\"Business\":3})\n",
    "\n",
    "\n",
    "\"\"\"data[\"JobType\"] = data[\"JobType\"].map({\" ?\":np.nan, \" Never-worked\":0,\n",
    "                                       \" Without-pay\":1,\" Self-emp-not-inc\":2,\n",
    "                                       \" Self-emp-inc\":3,\" Private\":4,\n",
    "                                         \"Local-gov\":5,\" State-gov\":6,\" Federal-gov\":7,\" Without-pay\":8})\"\"\"\n",
    "\n",
    "\n",
    "\n",
    "\n",
    "Y = data.iloc[:,-1]\n",
    "X = data[[\"Class\", \"Online boarding\",\"Inflight entertainment\"]]\n",
    "\n",
    "from sklearn.impute import SimpleImputer\n",
    "imputer  = SimpleImputer(missing_values = np.nan, strategy = \"mean\")\n",
    "missing_data = X.values\n",
    "missing_data = missing_data.reshape(len(missing_data),X.shape[1])\n",
    "imputer = imputer.fit(missing_data)\n",
    "X = imputer.transform(missing_data)\n",
    "X1 = pd.DataFrame(X, columns = [\"Class\", \"Online boarding\",\"Inflight entertainment\"])\n",
    "\n",
    "\n",
    "from sklearn.model_selection import train_test_split\n",
    "\n",
    "\n",
    "x_train, x_test,y_train,y_test = train_test_split(X1,Y,test_size=0.33, random_state=0)\n",
    "\n",
    "x_train = x_train.sort_index().values\n",
    "y_train = y_train.sort_index().values\n",
    "x_test = x_test.sort_index().values\n",
    "y_test = y_test.sort_index().values\n",
    "\n",
    "from sklearn.preprocessing import StandardScaler\n",
    "\n",
    "sc = StandardScaler()\n",
    "\n",
    "x_train = sc.fit_transform(x_train)\n",
    "\n",
    "x_test = sc.transform(x_test)\n"
   ]
  },
  {
   "cell_type": "code",
   "execution_count": 9,
   "id": "496d49da",
   "metadata": {},
   "outputs": [],
   "source": [
    "from sklearn.ensemble import RandomForestClassifier\n",
    "rf = RandomForestClassifier(n_estimators=100, n_jobs=-1,\n",
    "                            random_state=0, max_depth= 13 )\n",
    "rf.fit(x_train,y_train)\n",
    "y_pred = rf.predict(x_test)"
   ]
  },
  {
   "cell_type": "code",
   "execution_count": 10,
   "id": "04a50223",
   "metadata": {},
   "outputs": [
    {
     "data": {
      "text/plain": [
       "array([[16989,  2432],\n",
       "       [ 3007, 11861]], dtype=int64)"
      ]
     },
     "execution_count": 10,
     "metadata": {},
     "output_type": "execute_result"
    }
   ],
   "source": [
    "from sklearn.metrics import confusion_matrix\n",
    "\n",
    "cm2 = confusion_matrix(y_test,y_pred)\n",
    "\n",
    "cm2"
   ]
  },
  {
   "cell_type": "code",
   "execution_count": 11,
   "id": "b1801ae9",
   "metadata": {},
   "outputs": [
    {
     "name": "stdout",
     "output_type": "stream",
     "text": [
      "Precision Score: 0.839733351063972\n",
      "Recall Score: 0.8362641465447576\n",
      "Accuracy Score: 0.8413777013036251\n",
      "F1 Score: 0.8377488072254495\n"
     ]
    }
   ],
   "source": [
    "from sklearn.metrics import precision_score, recall_score, accuracy_score, f1_score\n",
    "def print_metrics(labels, preds):\n",
    "    print(\"Precision Score: {}\".format(precision_score(labels, preds, average = 'macro')))\n",
    "    print(\"Recall Score: {}\".format(recall_score(labels, preds, average = 'macro')))\n",
    "    print(\"Accuracy Score: {}\".format(accuracy_score(labels, preds)))\n",
    "    print(\"F1 Score: {}\".format(f1_score(labels, preds, average = 'macro')))\n",
    "    \n",
    "print_metrics(y_test, y_pred)"
   ]
  },
  {
   "cell_type": "code",
   "execution_count": 12,
   "id": "d16f302f",
   "metadata": {},
   "outputs": [
    {
     "name": "stdout",
     "output_type": "stream",
     "text": [
      "[0.84284996 0.84522014 0.8381096  0.84622567 0.84414279]\n",
      "mean of cv-scores: 0.8433\n"
     ]
    }
   ],
   "source": [
    "from sklearn.model_selection import GridSearchCV, cross_val_score\n",
    "\n",
    "print(cross_val_score(RandomForestClassifier(n_estimators=100, \n",
    "                                 n_jobs=-1, random_state=0, max_depth= 13), \n",
    "                              x_train, y_train, cv=5))\n",
    "\n",
    "print('mean of cv-scores: {0}'.format(round(np.mean(cross_val_score(RandomForestClassifier(n_estimators=100, \n",
    "                                 n_jobs=-1, random_state=0,max_depth= 13), \n",
    "                              x_train, y_train, cv=5)),4)))"
   ]
  },
  {
   "cell_type": "code",
   "execution_count": 13,
   "id": "35e2c8c4",
   "metadata": {},
   "outputs": [
    {
     "name": "stdout",
     "output_type": "stream",
     "text": [
      "{'max_depth': 10, 'n_estimators': 150}\n",
      "best cv mean  0.8434245493069022\n",
      "Best holdout result 0.8413777013036251\n",
      "GridSearchCV çalışma süresi 37.920539140701294 sn\n"
     ]
    }
   ],
   "source": [
    "import time \n",
    "\n",
    "\n",
    "start = time.time()\n",
    "rfc1= RandomForestClassifier(n_jobs=-1, random_state=0)\n",
    "\n",
    "rf_params = {'max_depth': range(10,30,10),'n_estimators': range(50,200,50)}\n",
    "\n",
    "rf_grid = GridSearchCV(rfc1, rf_params, cv=3, scoring = 'accuracy', n_jobs=-1)\n",
    "\n",
    "rf_grid.fit(x_train, y_train)\n",
    "\n",
    "rf_grid.predict(x_test)\n",
    "\n",
    "print(rf_grid.best_params_)\n",
    "\n",
    "print(\"best cv mean \", rf_grid.best_score_)\n",
    "\n",
    "print('Best holdout result', accuracy_score(y_test, y_pred))\n",
    "\n",
    "end = time.time()\n",
    "print(\"GridSearchCV çalışma süresi \" + str(end-start) + \" sn\")"
   ]
  },
  {
   "cell_type": "code",
   "execution_count": 14,
   "id": "b69ee2c1",
   "metadata": {},
   "outputs": [
    {
     "name": "stderr",
     "output_type": "stream",
     "text": [
      "\u001b[32m[I 2021-09-21 22:12:55,272]\u001b[0m A new study created in memory with name: no-name-387259d3-a15f-45e6-b514-cd1491c052b8\u001b[0m\n",
      "\u001b[32m[I 2021-09-21 22:13:02,756]\u001b[0m Trial 0 finished with value: 0.8434820081878905 and parameters: {'max_depth': 20, 'n_estimators': 50}. Best is trial 0 with value: 0.8434820081878905.\u001b[0m\n",
      "\u001b[32m[I 2021-09-21 22:13:10,889]\u001b[0m Trial 1 finished with value: 0.8434245493069022 and parameters: {'max_depth': 10, 'n_estimators': 100}. Best is trial 0 with value: 0.8434820081878905.\u001b[0m\n",
      "\u001b[32m[I 2021-09-21 22:13:18,693]\u001b[0m Trial 2 finished with value: 0.843180349062702 and parameters: {'max_depth': 30, 'n_estimators': 100}. Best is trial 0 with value: 0.8434820081878905.\u001b[0m\n",
      "\u001b[32m[I 2021-09-21 22:13:26,844]\u001b[0m Trial 3 finished with value: 0.8431228901817137 and parameters: {'max_depth': 20, 'n_estimators': 100}. Best is trial 0 with value: 0.8434820081878905.\u001b[0m\n",
      "\u001b[32m[I 2021-09-21 22:13:33,290]\u001b[0m Trial 4 finished with value: 0.8431516196222079 and parameters: {'max_depth': 30, 'n_estimators': 50}. Best is trial 0 with value: 0.8434820081878905.\u001b[0m\n",
      "\u001b[32m[I 2021-09-21 22:13:43,690]\u001b[0m Trial 5 finished with value: 0.8434245493069022 and parameters: {'max_depth': 30, 'n_estimators': 150}. Best is trial 0 with value: 0.8434820081878905.\u001b[0m\n",
      "\u001b[32m[I 2021-09-21 22:13:49,271]\u001b[0m Trial 6 finished with value: 0.8432521726639374 and parameters: {'max_depth': 10, 'n_estimators': 50}. Best is trial 0 with value: 0.8434820081878905.\u001b[0m\n",
      "\u001b[32m[I 2021-09-21 22:13:57,076]\u001b[0m Trial 7 finished with value: 0.8432521726639374 and parameters: {'max_depth': 10, 'n_estimators': 100}. Best is trial 0 with value: 0.8434820081878905.\u001b[0m\n",
      "\u001b[32m[I 2021-09-21 22:14:04,621]\u001b[0m Trial 8 finished with value: 0.8431228901817137 and parameters: {'max_depth': 30, 'n_estimators': 100}. Best is trial 0 with value: 0.8434820081878905.\u001b[0m\n",
      "\u001b[32m[I 2021-09-21 22:14:14,133]\u001b[0m Trial 9 finished with value: 0.8431947137829491 and parameters: {'max_depth': 20, 'n_estimators': 200}. Best is trial 0 with value: 0.8434820081878905.\u001b[0m\n",
      "\u001b[32m[I 2021-09-21 22:14:18,533]\u001b[0m Trial 10 finished with value: 0.8432521726639374 and parameters: {'max_depth': 20, 'n_estimators': 50}. Best is trial 0 with value: 0.8434820081878905.\u001b[0m\n",
      "\u001b[32m[I 2021-09-21 22:14:26,288]\u001b[0m Trial 11 finished with value: 0.8434101845866552 and parameters: {'max_depth': 10, 'n_estimators': 150}. Best is trial 0 with value: 0.8434820081878905.\u001b[0m\n",
      "\u001b[32m[I 2021-09-21 22:14:31,459]\u001b[0m Trial 12 finished with value: 0.843381455146161 and parameters: {'max_depth': 10, 'n_estimators': 50}. Best is trial 0 with value: 0.8434820081878905.\u001b[0m\n",
      "\u001b[32m[I 2021-09-21 22:14:40,282]\u001b[0m Trial 13 finished with value: 0.8434820081878905 and parameters: {'max_depth': 20, 'n_estimators': 150}. Best is trial 0 with value: 0.8434820081878905.\u001b[0m\n",
      "\u001b[32m[I 2021-09-21 22:14:51,158]\u001b[0m Trial 14 finished with value: 0.8428930546577605 and parameters: {'max_depth': 20, 'n_estimators': 200}. Best is trial 0 with value: 0.8434820081878905.\u001b[0m\n",
      "\u001b[32m[I 2021-09-21 22:15:01,400]\u001b[0m Trial 15 finished with value: 0.8434245493069022 and parameters: {'max_depth': 20, 'n_estimators': 150}. Best is trial 0 with value: 0.8434820081878905.\u001b[0m\n",
      "\u001b[32m[I 2021-09-21 22:15:10,772]\u001b[0m Trial 16 finished with value: 0.8434245493069022 and parameters: {'max_depth': 20, 'n_estimators': 150}. Best is trial 0 with value: 0.8434820081878905.\u001b[0m\n",
      "\u001b[32m[I 2021-09-21 22:15:22,419]\u001b[0m Trial 17 finished with value: 0.8431947137829491 and parameters: {'max_depth': 20, 'n_estimators': 200}. Best is trial 0 with value: 0.8434820081878905.\u001b[0m\n",
      "\u001b[32m[I 2021-09-21 22:15:32,383]\u001b[0m Trial 18 finished with value: 0.8434820081878905 and parameters: {'max_depth': 30, 'n_estimators': 150}. Best is trial 0 with value: 0.8434820081878905.\u001b[0m\n",
      "\u001b[32m[I 2021-09-21 22:15:43,947]\u001b[0m Trial 19 finished with value: 0.8431947137829491 and parameters: {'max_depth': 20, 'n_estimators': 200}. Best is trial 0 with value: 0.8434820081878905.\u001b[0m\n"
     ]
    },
    {
     "name": "stdout",
     "output_type": "stream",
     "text": [
      "Best score: 0.8434820081878905\n",
      "\n",
      "Optimized parameters: {'max_depth': 20, 'n_estimators': 50}\n",
      "\n",
      "{'max_depth': 20, 'n_estimators': 50}\n",
      "Optuna çalışma süresi 168.68983602523804 sn\n"
     ]
    }
   ],
   "source": [
    "from optuna import Trial, visualization\n",
    "import optuna\n",
    "start = time.time()\n",
    "\n",
    "def tune(objective):\n",
    "    study = optuna.create_study(direction=\"maximize\")\n",
    "    study.optimize(objective, n_trials=20)\n",
    "\n",
    "    params = study.best_params\n",
    "    best_score = study.best_value\n",
    "    print(f\"Best score: {best_score}\\n\")\n",
    "    print(f\"Optimized parameters: {params}\\n\")\n",
    "    return params\n",
    "\n",
    "\n",
    "def rf_objective(trial):\n",
    "    maxdepth_number  = trial.suggest_int(\"max_depth\", 10, 30,10)\n",
    "    estimators_number = trial.suggest_int(\"n_estimators\", 50, 200,50)\n",
    "    rf = RandomForestClassifier(n_estimators = estimators_number,max_depth = maxdepth_number,n_jobs=-1)\n",
    "    \n",
    "    scores = cross_val_score(rf,x_train,y_train,cv=3, scoring = 'accuracy', n_jobs = -1)\n",
    "    \n",
    "    return scores.mean()\n",
    "\n",
    "randomforest_params = tune(rf_objective)\n",
    "\n",
    "print(randomforest_params)\n",
    "\n",
    "end = time.time()\n",
    "\n",
    "\n",
    "print(\"Optuna çalışma süresi \" + str(end-start) + \" sn\")\n",
    "    \n",
    "\n"
   ]
  },
  {
   "cell_type": "code",
   "execution_count": null,
   "id": "e8167e09",
   "metadata": {},
   "outputs": [],
   "source": []
  },
  {
   "cell_type": "code",
   "execution_count": null,
   "id": "45000725",
   "metadata": {},
   "outputs": [],
   "source": []
  }
 ],
 "metadata": {
  "kernelspec": {
   "display_name": "Python 3",
   "language": "python",
   "name": "python3"
  },
  "language_info": {
   "codemirror_mode": {
    "name": "ipython",
    "version": 3
   },
   "file_extension": ".py",
   "mimetype": "text/x-python",
   "name": "python",
   "nbconvert_exporter": "python",
   "pygments_lexer": "ipython3",
   "version": "3.8.8"
  }
 },
 "nbformat": 4,
 "nbformat_minor": 5
}
