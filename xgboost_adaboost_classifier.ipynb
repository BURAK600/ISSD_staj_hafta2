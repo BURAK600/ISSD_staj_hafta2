{
 "cells": [
  {
   "cell_type": "markdown",
   "id": "24166f33",
   "metadata": {},
   "source": [
    "# XGBoost modeli"
   ]
  },
  {
   "cell_type": "code",
   "execution_count": 18,
   "id": "b5164642",
   "metadata": {},
   "outputs": [],
   "source": [
    "import numpy as np\n",
    "import pandas as pd\n",
    "import matplotlib.pyplot as plt\n",
    "\n",
    "data = pd.read_csv(r\"train.csv\")\n",
    "\n",
    "from sklearn import preprocessing\n",
    "le = preprocessing.LabelEncoder()\n",
    "data[\"satisfaction\"] = le.fit_transform(data[\"satisfaction\"])\n",
    "data[\"Customer Type\"] = le.fit_transform(data[\"Customer Type\"])\n",
    "\n",
    "\n",
    "\n",
    "data[\"Class\"] = data[\"Class\"].map({ \"Eco\":1,\"Eco Plus\":2,\"Business\":3})\n",
    "\n",
    "\n",
    "\"\"\"data[\"JobType\"] = data[\"JobType\"].map({\" ?\":np.nan, \" Never-worked\":0,\n",
    "                                       \" Without-pay\":1,\" Self-emp-not-inc\":2,\n",
    "                                       \" Self-emp-inc\":3,\" Private\":4,\n",
    "                                         \"Local-gov\":5,\" State-gov\":6,\" Federal-gov\":7,\" Without-pay\":8})\"\"\"\n",
    "\n",
    "\n",
    "\n",
    "\n",
    "Y = data.iloc[:,-1]\n",
    "X = data[[\"Class\", \"Online boarding\",\"Inflight entertainment\"]]\n",
    "\n",
    "from sklearn.impute import SimpleImputer\n",
    "imputer  = SimpleImputer(missing_values = np.nan, strategy = \"mean\")\n",
    "missing_data = X.values\n",
    "missing_data = missing_data.reshape(len(missing_data),X.shape[1])\n",
    "imputer = imputer.fit(missing_data)\n",
    "X = imputer.transform(missing_data)\n",
    "X1 = pd.DataFrame(X, columns = [\"Class\", \"Online boarding\",\"Inflight entertainment\"])\n",
    "\n",
    "\n",
    "from sklearn.model_selection import train_test_split\n",
    "\n",
    "\n",
    "x_train, x_test,y_train,y_test = train_test_split(X1,Y,test_size=0.33, random_state=0)\n",
    "\n",
    "x_train = x_train.sort_index().values\n",
    "y_train = y_train.sort_index().values\n",
    "x_test = x_test.sort_index().values\n",
    "y_test = y_test.sort_index().values\n",
    "\n",
    "from sklearn.preprocessing import StandardScaler\n",
    "\n",
    "sc = StandardScaler()\n",
    "\n",
    "x_train = sc.fit_transform(x_train)\n",
    "\n",
    "x_test = sc.transform(x_test)\n"
   ]
  },
  {
   "cell_type": "code",
   "execution_count": 19,
   "id": "92b1b997",
   "metadata": {},
   "outputs": [],
   "source": [
    "x_train1, x_test1 = x_train, x_test\n",
    "y_train1, y_test1 = y_train, y_test"
   ]
  },
  {
   "cell_type": "code",
   "execution_count": 20,
   "id": "a3a217de",
   "metadata": {},
   "outputs": [],
   "source": [
    "from xgboost import XGBClassifier\n",
    "\n",
    "xgb = XGBClassifier(eval_metric='mlogloss',use_label_encoder=False)\n",
    "xgb.fit(x_train,y_train)\n",
    "y_pred = xgb.predict(x_test)\n",
    "\n"
   ]
  },
  {
   "cell_type": "code",
   "execution_count": 21,
   "id": "277945f6",
   "metadata": {},
   "outputs": [
    {
     "data": {
      "text/plain": [
       "array([[16989,  2432],\n",
       "       [ 3007, 11861]], dtype=int64)"
      ]
     },
     "execution_count": 21,
     "metadata": {},
     "output_type": "execute_result"
    }
   ],
   "source": [
    "from sklearn.metrics import confusion_matrix\n",
    "\n",
    "cm1 = confusion_matrix(y_test,y_pred)\n",
    "\n",
    "cm1"
   ]
  },
  {
   "cell_type": "code",
   "execution_count": 22,
   "id": "3699996c",
   "metadata": {},
   "outputs": [
    {
     "name": "stdout",
     "output_type": "stream",
     "text": [
      "Precision Score: 0.839733351063972\n",
      "Recall Score: 0.8362641465447576\n",
      "Accuracy Score: 0.8413777013036251\n",
      "F1 Score: 0.8377488072254495\n"
     ]
    }
   ],
   "source": [
    "from sklearn.metrics import precision_score, recall_score, accuracy_score, f1_score\n",
    "def print_metrics(labels, preds):\n",
    "    print(\"Precision Score: {}\".format(precision_score(labels, preds, average = 'macro')))\n",
    "    print(\"Recall Score: {}\".format(recall_score(labels, preds, average = 'macro')))\n",
    "    print(\"Accuracy Score: {}\".format(accuracy_score(labels, preds)))\n",
    "    print(\"F1 Score: {}\".format(f1_score(labels, preds, average = 'macro')))\n",
    "    \n",
    "print_metrics(y_test, y_pred) "
   ]
  },
  {
   "cell_type": "code",
   "execution_count": 23,
   "id": "f153b6d5",
   "metadata": {},
   "outputs": [
    {
     "data": {
      "text/plain": [
       "\"for depth in range (1,10):\\n    tree_classifier=DecisionTreeClassifier(max_depth=depth,random_state=1)\\n    if tree_classifier.fit(x_train1,y_train1).max_depth<depth:\\n        break\\n    score=np.mean(cross_val_score(tree_classifier,x_train,y_train,scoring='accuracy', cv=crossvalidation,n_jobs=-1))\\n    print(depth, score)\""
      ]
     },
     "execution_count": 23,
     "metadata": {},
     "output_type": "execute_result"
    }
   ],
   "source": [
    "\n",
    "\n",
    "from sklearn.tree import DecisionTreeClassifier\n",
    "\n",
    "from sklearn.model_selection import KFold\n",
    "from sklearn.model_selection import GridSearchCV, cross_val_score\n",
    "crossvalidation=KFold(n_splits=3,shuffle=True,random_state=1)\n",
    "\n",
    "\"\"\"for depth in range (1,10):\n",
    "    tree_classifier=DecisionTreeClassifier(max_depth=depth,random_state=1)\n",
    "    if tree_classifier.fit(x_train1,y_train1).max_depth<depth:\n",
    "        break\n",
    "    score=np.mean(cross_val_score(tree_classifier,x_train,y_train,scoring='accuracy', cv=crossvalidation,n_jobs=-1))\n",
    "    print(depth, score)\"\"\""
   ]
  },
  {
   "cell_type": "code",
   "execution_count": 24,
   "id": "fa78843f",
   "metadata": {},
   "outputs": [
    {
     "name": "stdout",
     "output_type": "stream",
     "text": [
      "Fitting 10 folds for each of 18 candidates, totalling 180 fits\n",
      "best param:  {'learning_rate': 0.1, 'max_depth': 10, 'n_estimators': 100}\n",
      "xgbosst GridSerach çalışma süresi 1816.723955631256\n"
     ]
    }
   ],
   "source": [
    "import time\n",
    "start = time.time()\n",
    "\n",
    "\n",
    "\n",
    "parameters = {\n",
    "    'max_depth': range (10, 30, 10),\n",
    "    'n_estimators': range(50, 200, 50),\n",
    "    'learning_rate': [0.01, 0.1,1.0]}\n",
    "\n",
    "grid_search = GridSearchCV(\n",
    "    estimator=xgb,\n",
    "    param_grid=parameters,\n",
    "    scoring = 'accuracy',\n",
    "    n_jobs = -1,\n",
    "    cv = 10,\n",
    "    verbose=True)\n",
    "\n",
    "grid_search.fit(x_train, y_train)\n",
    "\n",
    "print(\"best param: \", grid_search.best_params_)\n",
    "\n",
    "end = time.time()\n",
    "\n",
    "print(\"xgbosst GridSerach çalışma süresi\", end-start)\n"
   ]
  },
  {
   "cell_type": "code",
   "execution_count": 25,
   "id": "08768b0f",
   "metadata": {},
   "outputs": [
    {
     "data": {
      "text/plain": [
       "XGBClassifier(base_score=0.5, booster='gbtree', colsample_bylevel=1,\n",
       "              colsample_bynode=1, colsample_bytree=1, eval_metric='mlogloss',\n",
       "              gamma=0, gpu_id=-1, importance_type='gain',\n",
       "              interaction_constraints='', learning_rate=0.1, max_delta_step=0,\n",
       "              max_depth=10, min_child_weight=1, missing=nan,\n",
       "              monotone_constraints='()', n_estimators=100, n_jobs=8,\n",
       "              num_parallel_tree=1, random_state=0, reg_alpha=0, reg_lambda=1,\n",
       "              scale_pos_weight=1, subsample=1, tree_method='exact',\n",
       "              use_label_encoder=False, validate_parameters=1, verbosity=None)"
      ]
     },
     "execution_count": 25,
     "metadata": {},
     "output_type": "execute_result"
    }
   ],
   "source": [
    "grid_search.best_estimator_"
   ]
  },
  {
   "cell_type": "code",
   "execution_count": 26,
   "id": "7ba10629",
   "metadata": {},
   "outputs": [
    {
     "data": {
      "text/plain": [
       "0.8438268741580343"
      ]
     },
     "execution_count": 26,
     "metadata": {},
     "output_type": "execute_result"
    }
   ],
   "source": [
    "grid_search.best_score_"
   ]
  },
  {
   "cell_type": "code",
   "execution_count": 10,
   "id": "5f9c3f4b",
   "metadata": {},
   "outputs": [
    {
     "name": "stderr",
     "output_type": "stream",
     "text": [
      "\u001b[32m[I 2021-09-21 18:18:39,648]\u001b[0m A new study created in memory with name: no-name-1edd36a0-4b3e-4bae-b5ca-077595c3e9ed\u001b[0m\n",
      "\u001b[32m[I 2021-09-21 18:18:41,951]\u001b[0m Trial 0 finished with value: 0.8433958198664081 and parameters: {'max_depth': 30, 'n_estimators': 50, 'learning_rate': 0.01}. Best is trial 0 with value: 0.8433958198664081.\u001b[0m\n",
      "\u001b[32m[I 2021-09-21 18:18:43,281]\u001b[0m Trial 1 finished with value: 0.8434820081878905 and parameters: {'max_depth': 10, 'n_estimators': 100, 'learning_rate': 1.0}. Best is trial 1 with value: 0.8434820081878905.\u001b[0m\n",
      "\u001b[32m[I 2021-09-21 18:18:49,747]\u001b[0m Trial 2 finished with value: 0.8434820081878905 and parameters: {'max_depth': 10, 'n_estimators': 200, 'learning_rate': 0.1}. Best is trial 1 with value: 0.8434820081878905.\u001b[0m\n",
      "\u001b[32m[I 2021-09-21 18:18:54,571]\u001b[0m Trial 3 finished with value: 0.8434820081878905 and parameters: {'max_depth': 20, 'n_estimators': 100, 'learning_rate': 0.1}. Best is trial 1 with value: 0.8434820081878905.\u001b[0m\n",
      "\u001b[32m[I 2021-09-21 18:18:57,096]\u001b[0m Trial 4 finished with value: 0.8434820081878905 and parameters: {'max_depth': 20, 'n_estimators': 200, 'learning_rate': 1.0}. Best is trial 1 with value: 0.8434820081878905.\u001b[0m\n",
      "\u001b[32m[I 2021-09-21 18:18:59,598]\u001b[0m Trial 5 finished with value: 0.8433958198664081 and parameters: {'max_depth': 30, 'n_estimators': 50, 'learning_rate': 0.1}. Best is trial 1 with value: 0.8434820081878905.\u001b[0m\n",
      "\u001b[32m[I 2021-09-21 18:19:05,929]\u001b[0m Trial 6 finished with value: 0.8433958198664081 and parameters: {'max_depth': 10, 'n_estimators': 150, 'learning_rate': 0.01}. Best is trial 1 with value: 0.8434820081878905.\u001b[0m\n",
      "\u001b[32m[I 2021-09-21 18:19:12,124]\u001b[0m Trial 7 finished with value: 0.8433958198664081 and parameters: {'max_depth': 10, 'n_estimators': 150, 'learning_rate': 0.01}. Best is trial 1 with value: 0.8434820081878905.\u001b[0m\n",
      "\u001b[32m[I 2021-09-21 18:19:17,902]\u001b[0m Trial 8 finished with value: 0.8434820081878905 and parameters: {'max_depth': 10, 'n_estimators': 150, 'learning_rate': 0.1}. Best is trial 1 with value: 0.8434820081878905.\u001b[0m\n",
      "\u001b[32m[I 2021-09-21 18:19:19,976]\u001b[0m Trial 9 finished with value: 0.8433958198664081 and parameters: {'max_depth': 30, 'n_estimators': 50, 'learning_rate': 0.01}. Best is trial 1 with value: 0.8434820081878905.\u001b[0m\n",
      "\u001b[32m[I 2021-09-21 18:19:21,294]\u001b[0m Trial 10 finished with value: 0.8434820081878905 and parameters: {'max_depth': 20, 'n_estimators': 100, 'learning_rate': 1.0}. Best is trial 1 with value: 0.8434820081878905.\u001b[0m\n",
      "\u001b[32m[I 2021-09-21 18:19:23,586]\u001b[0m Trial 11 finished with value: 0.8434820081878905 and parameters: {'max_depth': 10, 'n_estimators': 200, 'learning_rate': 1.0}. Best is trial 1 with value: 0.8434820081878905.\u001b[0m\n",
      "\u001b[32m[I 2021-09-21 18:19:24,892]\u001b[0m Trial 12 finished with value: 0.8434820081878905 and parameters: {'max_depth': 10, 'n_estimators': 100, 'learning_rate': 1.0}. Best is trial 1 with value: 0.8434820081878905.\u001b[0m\n",
      "\u001b[32m[I 2021-09-21 18:19:31,700]\u001b[0m Trial 13 finished with value: 0.8434820081878905 and parameters: {'max_depth': 10, 'n_estimators': 200, 'learning_rate': 0.1}. Best is trial 1 with value: 0.8434820081878905.\u001b[0m\n",
      "\u001b[32m[I 2021-09-21 18:19:33,414]\u001b[0m Trial 14 finished with value: 0.8434820081878905 and parameters: {'max_depth': 20, 'n_estimators': 150, 'learning_rate': 1.0}. Best is trial 1 with value: 0.8434820081878905.\u001b[0m\n",
      "\u001b[32m[I 2021-09-21 18:19:38,053]\u001b[0m Trial 15 finished with value: 0.8434820081878905 and parameters: {'max_depth': 10, 'n_estimators': 100, 'learning_rate': 0.1}. Best is trial 1 with value: 0.8434820081878905.\u001b[0m\n",
      "\u001b[32m[I 2021-09-21 18:19:40,067]\u001b[0m Trial 16 finished with value: 0.8434820081878905 and parameters: {'max_depth': 20, 'n_estimators': 200, 'learning_rate': 1.0}. Best is trial 1 with value: 0.8434820081878905.\u001b[0m\n",
      "\u001b[32m[I 2021-09-21 18:19:46,233]\u001b[0m Trial 17 finished with value: 0.8434820081878905 and parameters: {'max_depth': 20, 'n_estimators': 150, 'learning_rate': 0.1}. Best is trial 1 with value: 0.8434820081878905.\u001b[0m\n",
      "\u001b[32m[I 2021-09-21 18:19:51,046]\u001b[0m Trial 18 finished with value: 0.8434820081878905 and parameters: {'max_depth': 10, 'n_estimators': 100, 'learning_rate': 0.1}. Best is trial 1 with value: 0.8434820081878905.\u001b[0m\n",
      "\u001b[32m[I 2021-09-21 18:19:52,364]\u001b[0m Trial 19 finished with value: 0.8434820081878905 and parameters: {'max_depth': 10, 'n_estimators': 100, 'learning_rate': 1.0}. Best is trial 1 with value: 0.8434820081878905.\u001b[0m\n"
     ]
    },
    {
     "name": "stdout",
     "output_type": "stream",
     "text": [
      "Best score: 0.8434820081878905\n",
      "\n",
      "Optimized parameters: {'max_depth': 10, 'n_estimators': 100, 'learning_rate': 1.0}\n",
      "\n",
      "{'max_depth': 10, 'n_estimators': 100, 'learning_rate': 1.0}\n",
      "xgbosst Optuna çalışma süresi 72.71788692474365 sn\n"
     ]
    }
   ],
   "source": [
    "import time\n",
    "from optuna import Trial, visualization\n",
    "import optuna\n",
    "start = time.time()\n",
    "\n",
    "def tune(objective):\n",
    "    study = optuna.create_study(direction=\"maximize\")\n",
    "    study.optimize(objective, n_trials=20)\n",
    "\n",
    "    params = study.best_params\n",
    "    best_score = study.best_value\n",
    "    print(f\"Best score: {best_score}\\n\")\n",
    "    print(f\"Optimized parameters: {params}\\n\")\n",
    "    return params\n",
    "\n",
    "\n",
    "def xgboost_objective(trial):\n",
    "    maxdepth_number  = trial.suggest_int(\"max_depth\", 10, 30,10)\n",
    "    estimators_number = trial.suggest_int(\"n_estimators\", 50, 200,50)\n",
    "    learn_rate = trial.suggest_categorical(\"learning_rate\", [0.01, 0.1,1.0 ])\n",
    "\n",
    "\n",
    "    xgb = XGBClassifier(n_estimators = estimators_number,\n",
    "                        max_depth = maxdepth_number,\n",
    "                        learning_rate = learn_rate,eval_metric='mlogloss',use_label_encoder=False,n_jobs=-1)\n",
    "    \n",
    "    scores = cross_val_score(xgb,x_train,y_train,cv=5, scoring = 'accuracy', n_jobs = -1)\n",
    "    \n",
    "    return scores.mean()\n",
    "\n",
    "xgboost_params = tune(xgboost_objective)\n",
    "\n",
    "print(xgboost_params)\n",
    "\n",
    "end = time.time()\n",
    "\n",
    "\n",
    "print(\"xgbosst Optuna çalışma süresi \" + str(end-start) + \" sn\")\n",
    "    "
   ]
  },
  {
   "cell_type": "markdown",
   "id": "4bec6263",
   "metadata": {},
   "source": [
    "# AdaBoost modeli"
   ]
  },
  {
   "cell_type": "code",
   "execution_count": 11,
   "id": "be0ed401",
   "metadata": {},
   "outputs": [],
   "source": [
    "from sklearn.ensemble import AdaBoostClassifier\n",
    "from sklearn.tree import DecisionTreeClassifier\n",
    "\n",
    "abc = AdaBoostClassifier(DecisionTreeClassifier(max_depth=50), n_estimators=10)\n",
    "abc.fit(x_train1, y_train1)\n",
    "y_pred1 = abc.predict(x_test1)\n"
   ]
  },
  {
   "cell_type": "code",
   "execution_count": 12,
   "id": "52dbefcc",
   "metadata": {},
   "outputs": [
    {
     "data": {
      "text/plain": [
       "array([[16989,  2432],\n",
       "       [ 3007, 11861]], dtype=int64)"
      ]
     },
     "execution_count": 12,
     "metadata": {},
     "output_type": "execute_result"
    }
   ],
   "source": [
    "from sklearn.metrics import confusion_matrix\n",
    "\n",
    "cm2 = confusion_matrix(y_test1,y_pred1)\n",
    "\n",
    "cm2"
   ]
  },
  {
   "cell_type": "code",
   "execution_count": 13,
   "id": "962d32cb",
   "metadata": {},
   "outputs": [
    {
     "name": "stdout",
     "output_type": "stream",
     "text": [
      "Precision Score: 0.839733351063972\n",
      "Recall Score: 0.8362641465447576\n",
      "Accuracy Score: 0.8413777013036251\n",
      "F1 Score: 0.8377488072254495\n"
     ]
    }
   ],
   "source": [
    "from sklearn.metrics import precision_score, recall_score, accuracy_score, f1_score\n",
    "def print_metrics(labels, preds):\n",
    "    print(\"Precision Score: {}\".format(precision_score(labels, preds, average = 'macro')))\n",
    "    print(\"Recall Score: {}\".format(recall_score(labels, preds, average = 'macro')))\n",
    "    print(\"Accuracy Score: {}\".format(accuracy_score(labels, preds)))\n",
    "    print(\"F1 Score: {}\".format(f1_score(labels, preds, average = 'macro')))\n",
    "    \n",
    "print_metrics(y_test1, y_pred1) "
   ]
  },
  {
   "cell_type": "code",
   "execution_count": 14,
   "id": "b8671957",
   "metadata": {},
   "outputs": [
    {
     "data": {
      "text/plain": [
       "(array([0.84313725, 0.84486102, 0.83861237, 0.84622567, 0.84471737]),\n",
       " 0.8435107376283847)"
      ]
     },
     "execution_count": 14,
     "metadata": {},
     "output_type": "execute_result"
    }
   ],
   "source": [
    "from sklearn.model_selection import GridSearchCV, cross_val_score\n",
    "\n",
    "cls = cross_val_score(AdaBoostClassifier(DecisionTreeClassifier(max_depth=5), n_estimators=10), \n",
    "                              x_train1, y_train1, cv=5)\n",
    "\n",
    "cls, np.mean(cls)"
   ]
  },
  {
   "cell_type": "code",
   "execution_count": 15,
   "id": "5f416a10",
   "metadata": {},
   "outputs": [
    {
     "name": "stdout",
     "output_type": "stream",
     "text": [
      "1 0.786741696391035\n",
      "2 0.8115349292262828\n",
      "3 0.8278100613996617\n",
      "4 0.835121740153548\n",
      "5 0.8438986306974539\n",
      "6 0.8439272982345395\n",
      "7 0.8436974627094006\n",
      "8 0.8436974627094006\n",
      "9 0.8436974627094006\n"
     ]
    }
   ],
   "source": [
    "\n",
    "from sklearn.model_selection import KFold\n",
    "\n",
    "crossvalidation=KFold(n_splits=10,shuffle=True,random_state=1)\n",
    "\n",
    "for depth in range (1,10):\n",
    "    tree_classifier=DecisionTreeClassifier(max_depth=depth,random_state=1)\n",
    "    if tree_classifier.fit(x_train1,y_train1).max_depth<depth:\n",
    "        break\n",
    "    score=np.mean(cross_val_score(tree_classifier,x_train1,y_train1,scoring='accuracy', cv=crossvalidation,n_jobs=1))\n",
    "    print(depth, score)"
   ]
  },
  {
   "cell_type": "code",
   "execution_count": 16,
   "id": "4325192c",
   "metadata": {},
   "outputs": [
    {
     "name": "stdout",
     "output_type": "stream",
     "text": [
      "best parametre:  {'learning_rate': 0.1, 'n_estimators': 200}\n",
      "best score:  0.8353229576644464\n",
      "adaboost GridSearch çalışma süresi:  209.24717831611633\n"
     ]
    }
   ],
   "source": [
    "import time\n",
    "\n",
    "start = time.time()\n",
    "\n",
    "\n",
    "ada=AdaBoostClassifier()\n",
    "search_grid={'n_estimators': [50,100,200],'learning_rate':[0.001,0.01,0.1]}\n",
    "\n",
    "search=GridSearchCV(estimator=ada ,param_grid=search_grid, scoring='accuracy',cv=crossvalidation)\n",
    "search.fit(x_train1,y_train1)\n",
    "\n",
    "print(\"best parametre: \", search.best_params_)\n",
    "print(\"best score: \", search.best_score_)\n",
    "\n",
    "end = time.time()\n",
    "\n",
    "print(\"adaboost GridSearch çalışma süresi: \", end-start)"
   ]
  },
  {
   "cell_type": "code",
   "execution_count": 17,
   "id": "8818e406",
   "metadata": {},
   "outputs": [
    {
     "name": "stderr",
     "output_type": "stream",
     "text": [
      "\u001b[32m[I 2021-09-21 18:23:25,568]\u001b[0m A new study created in memory with name: no-name-0ba35be9-55a6-4659-aefa-7728af41f973\u001b[0m\n",
      "\u001b[32m[I 2021-09-21 18:23:26,977]\u001b[0m Trial 0 finished with value: 0.8346477052359406 and parameters: {'n_estimators': 50, 'learning_rate': 1.0}. Best is trial 0 with value: 0.8346477052359406.\u001b[0m\n",
      "\u001b[32m[I 2021-09-21 18:23:28,695]\u001b[0m Trial 1 finished with value: 0.8346477052359406 and parameters: {'n_estimators': 50, 'learning_rate': 1.0}. Best is trial 0 with value: 0.8346477052359406.\u001b[0m\n",
      "\u001b[32m[I 2021-09-21 18:23:33,435]\u001b[0m Trial 2 finished with value: 0.8237879767291533 and parameters: {'n_estimators': 200, 'learning_rate': 0.01}. Best is trial 0 with value: 0.8346477052359406.\u001b[0m\n",
      "\u001b[32m[I 2021-09-21 18:23:37,987]\u001b[0m Trial 3 finished with value: 0.8346477052359406 and parameters: {'n_estimators': 200, 'learning_rate': 1.0}. Best is trial 0 with value: 0.8346477052359406.\u001b[0m\n",
      "\u001b[32m[I 2021-09-21 18:23:40,328]\u001b[0m Trial 4 finished with value: 0.8346477052359406 and parameters: {'n_estimators': 100, 'learning_rate': 1.0}. Best is trial 0 with value: 0.8346477052359406.\u001b[0m\n",
      "\u001b[32m[I 2021-09-21 18:23:45,223]\u001b[0m Trial 5 finished with value: 0.835523953171012 and parameters: {'n_estimators': 200, 'learning_rate': 0.1}. Best is trial 5 with value: 0.835523953171012.\u001b[0m\n",
      "\u001b[32m[I 2021-09-21 18:23:46,564]\u001b[0m Trial 6 finished with value: 0.8346477052359406 and parameters: {'n_estimators': 50, 'learning_rate': 1.0}. Best is trial 5 with value: 0.835523953171012.\u001b[0m\n",
      "\u001b[32m[I 2021-09-21 18:23:51,233]\u001b[0m Trial 7 finished with value: 0.8346477052359406 and parameters: {'n_estimators': 200, 'learning_rate': 1.0}. Best is trial 5 with value: 0.835523953171012.\u001b[0m\n",
      "\u001b[32m[I 2021-09-21 18:23:56,111]\u001b[0m Trial 8 finished with value: 0.835523953171012 and parameters: {'n_estimators': 200, 'learning_rate': 0.1}. Best is trial 5 with value: 0.835523953171012.\u001b[0m\n",
      "\u001b[32m[I 2021-09-21 18:23:58,505]\u001b[0m Trial 9 finished with value: 0.8296775120304533 and parameters: {'n_estimators': 100, 'learning_rate': 0.1}. Best is trial 5 with value: 0.835523953171012.\u001b[0m\n",
      "\u001b[32m[I 2021-09-21 18:24:03,185]\u001b[0m Trial 10 finished with value: 0.835523953171012 and parameters: {'n_estimators': 200, 'learning_rate': 0.1}. Best is trial 5 with value: 0.835523953171012.\u001b[0m\n",
      "\u001b[32m[I 2021-09-21 18:24:07,830]\u001b[0m Trial 11 finished with value: 0.835523953171012 and parameters: {'n_estimators': 200, 'learning_rate': 0.1}. Best is trial 5 with value: 0.835523953171012.\u001b[0m\n",
      "\u001b[32m[I 2021-09-21 18:24:12,517]\u001b[0m Trial 12 finished with value: 0.835523953171012 and parameters: {'n_estimators': 200, 'learning_rate': 0.1}. Best is trial 5 with value: 0.835523953171012.\u001b[0m\n",
      "\u001b[32m[I 2021-09-21 18:24:17,173]\u001b[0m Trial 13 finished with value: 0.835523953171012 and parameters: {'n_estimators': 200, 'learning_rate': 0.1}. Best is trial 5 with value: 0.835523953171012.\u001b[0m\n",
      "\u001b[32m[I 2021-09-21 18:24:21,720]\u001b[0m Trial 14 finished with value: 0.8237879767291533 and parameters: {'n_estimators': 200, 'learning_rate': 0.01}. Best is trial 5 with value: 0.835523953171012.\u001b[0m\n",
      "\u001b[32m[I 2021-09-21 18:24:23,985]\u001b[0m Trial 15 finished with value: 0.8296775120304533 and parameters: {'n_estimators': 100, 'learning_rate': 0.1}. Best is trial 5 with value: 0.835523953171012.\u001b[0m\n",
      "\u001b[32m[I 2021-09-21 18:24:28,278]\u001b[0m Trial 16 finished with value: 0.835523953171012 and parameters: {'n_estimators': 200, 'learning_rate': 0.1}. Best is trial 5 with value: 0.835523953171012.\u001b[0m\n",
      "\u001b[32m[I 2021-09-21 18:24:33,137]\u001b[0m Trial 17 finished with value: 0.835523953171012 and parameters: {'n_estimators': 200, 'learning_rate': 0.1}. Best is trial 5 with value: 0.835523953171012.\u001b[0m\n",
      "\u001b[32m[I 2021-09-21 18:24:34,335]\u001b[0m Trial 18 finished with value: 0.7867413632119514 and parameters: {'n_estimators': 50, 'learning_rate': 0.01}. Best is trial 5 with value: 0.835523953171012.\u001b[0m\n",
      "\u001b[32m[I 2021-09-21 18:24:36,693]\u001b[0m Trial 19 finished with value: 0.8296775120304533 and parameters: {'n_estimators': 100, 'learning_rate': 0.1}. Best is trial 5 with value: 0.835523953171012.\u001b[0m\n"
     ]
    },
    {
     "name": "stdout",
     "output_type": "stream",
     "text": [
      "Best score: 0.835523953171012\n",
      "\n",
      "Optimized parameters: {'n_estimators': 200, 'learning_rate': 0.1}\n",
      "\n",
      "{'max_depth': 10, 'n_estimators': 100, 'learning_rate': 1.0}\n",
      "adaboost Optuna çalışma süresi 71.1243097782135 sn\n"
     ]
    }
   ],
   "source": [
    "from optuna import Trial, visualization\n",
    "import optuna\n",
    "start = time.time()\n",
    "\n",
    "def tune(objective):\n",
    "    study = optuna.create_study(direction=\"maximize\")\n",
    "    study.optimize(objective, n_trials=20)\n",
    "\n",
    "    params = study.best_params\n",
    "    best_score = study.best_value\n",
    "    print(f\"Best score: {best_score}\\n\")\n",
    "    print(f\"Optimized parameters: {params}\\n\")\n",
    "    return params\n",
    "\n",
    "\n",
    "def adaboost_objective(trial):\n",
    "    \n",
    "    n_estimator1 = trial.suggest_categorical(\"n_estimators\", [50, 100,200])\n",
    "    learn_rate1 = trial.suggest_categorical(\"learning_rate\", [0.01, 0.1,1.0 ])\n",
    "\n",
    "\n",
    "    ada=AdaBoostClassifier(n_estimators = n_estimator1, learning_rate = learn_rate1)\n",
    "    \n",
    "    scores = cross_val_score(ada,x_train,y_train,cv=3, scoring = 'accuracy', n_jobs = -1)\n",
    "    \n",
    "    return scores.mean()\n",
    "\n",
    "adabosst_params = tune(adaboost_objective)\n",
    "\n",
    "print(xgboost_params)\n",
    "\n",
    "end = time.time()\n",
    "\n",
    "\n",
    "print(\"adaboost Optuna çalışma süresi \" + str(end-start) + \" sn\")\n",
    "    "
   ]
  },
  {
   "cell_type": "code",
   "execution_count": null,
   "id": "ecc05ee0",
   "metadata": {},
   "outputs": [],
   "source": []
  },
  {
   "cell_type": "code",
   "execution_count": null,
   "id": "b5fe9e79",
   "metadata": {},
   "outputs": [],
   "source": []
  }
 ],
 "metadata": {
  "kernelspec": {
   "display_name": "Python 3",
   "language": "python",
   "name": "python3"
  },
  "language_info": {
   "codemirror_mode": {
    "name": "ipython",
    "version": 3
   },
   "file_extension": ".py",
   "mimetype": "text/x-python",
   "name": "python",
   "nbconvert_exporter": "python",
   "pygments_lexer": "ipython3",
   "version": "3.8.8"
  }
 },
 "nbformat": 4,
 "nbformat_minor": 5
}
